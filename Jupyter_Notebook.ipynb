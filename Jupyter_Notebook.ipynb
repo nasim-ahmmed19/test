{
 "cells": [
  {
   "cell_type": "markdown",
   "metadata": {},
   "source": [
    "<center>\n",
    "    <img src=\"https://cf-courses-data.s3.us.cloud-object-storage.appdomain.cloud/IBMDeveloperSkillsNetwork-DS0105EN-SkillsNetwork/labs/Module2/images/SN_web_lightmode.png\" width=\"300\" alt=\"cognitiveclass.ai logo\">\n",
    "</center>\n"
   ]
  },
  {
   "cell_type": "markdown",
   "metadata": {},
   "source": [
    "#### Add your code below following the instructions given in the course\n"
   ]
  },
  {
   "cell_type": "markdown",
   "metadata": {},
   "source": [
    " #\n",
    " **Title of Notebook**"
   ]
  },
  {
   "cell_type": "markdown",
   "metadata": {},
   "source": [
    "#Introduction"
   ]
  },
  {
   "cell_type": "markdown",
   "metadata": {},
   "source": [
    "#This document aims to provide a comrehensive overview of economic forecasts and trends .We will analyze various ecomomic"
   ]
  },
  {
   "cell_type": "markdown",
   "metadata": {},
   "source": [
    "# Data Science Languages\n",
    "\n",
    "The following are some of the most commonly used programming languages in data science:\n",
    "\n",
    "1. **Python** - Known for its simplicity and readability, Python is widely used for data analysis, machine learning, and statistical computing.\n",
    "2. **R** - A language specifically designed for statistical computing and graphics, R is popular among statisticians and data miners.\n",
    "3. **SQL** - Structured Query Language is essential for managing and querying relational databases.\n",
    "4. **Julia** - Known for its high performance, Julia is used for numerical and computational analysis.\n",
    "5. **Java** - Often used for large-scale data processing and enterprise-level applications.\n",
    "6. **Scala** - Works well with big data frameworks like Apache Spark, making it a choice for big data processing.\n",
    "7. **MATLAB** - Used for numerical computing, MATLAB is prevalent in academia and industries involving heavy mathematical computations.\n"
   ]
  },
  {
   "cell_type": "markdown",
   "metadata": {},
   "source": [
    "# Data Science Libraries\n",
    "\n",
    "The following are some of the most widely used libraries in data science:\n",
    "\n",
    "1. **Pandas** - A powerful library for data manipulation and analysis in Python.\n",
    "2. **NumPy** - A fundamental library for numerical computing in Python, providing support for arrays and matrices.\n",
    "3. **Matplotlib** - A plotting library for Python, used to create static, animated, and interactive visualizations.\n",
    "4. **Seaborn** - A statistical data visualization library based on Matplotlib, known for its attractive and informative graphics.\n",
    "5. **SciPy** - A library for scientific and technical computing, built on NumPy and offering modules for optimization, integration, and more.\n",
    "6. **scikit-learn** - A machine learning library for Python, providing simple and efficient tools for data mining and data analysis.\n",
    "7. **TensorFlow** - An open-source library for machine learning and artificial intelligence, developed by Google.\n",
    "8. **Keras** - A high-level neural networks API, written in Python and capable of running on top of TensorFlow, CNTK, or Theano.\n",
    "9. **PyTorch** - An open-source machine learning library developed by Facebook's AI Research lab, known for its flexibility and ease of use.\n",
    "10. **Statsmodels** - A library for statistical modeling in Python, providing classes and functions for the estimation of many different statistical models.\n",
    "11. **NLTK (Natural Language Toolkit)** - A library for working with human language data (text) in Python.\n"
   ]
  },
  {
   "cell_type": "markdown",
   "metadata": {},
   "source": [
    "# Data Science Tools\n",
    "\n",
    "The following table lists some of the commonly used tools in data science along with their primary uses:\n",
    "\n",
    "| Tool            | Description                                      | Primary Use                         |\n",
    "|-----------------|--------------------------------------------------|-------------------------------------|\n",
    "| Jupyter Notebook| An open-source web application                    | Interactive computing and visualization |\n",
    "| RStudio         | An integrated development environment (IDE) for R| Statistical computing and graphics  |\n",
    "| Apache Hadoop   | An open-source software framework                | Distributed storage and processing of large data sets |\n",
    "| Apache Spark    | A unified analytics engine                       | Big data processing                 |\n",
    "| Tableau         | A data visualization tool                        | Data analysis and visualization     |\n",
    "| KNIME           | An open-source platform                          | Data analytics and reporting        |\n",
    "| RapidMiner      | A data science platform                          | Machine learning and predictive analytics |\n",
    "| TensorBoard     | A visualization toolkit for TensorFlow           | Machine learning model visualization|\n",
    "| Orange          | An open-source data visualization and analysis tool| Interactive data analysis and visualization |\n",
    "| BigML           | A machine learning platform                      | Predictive modeling                 |\n"
   ]
  },
  {
   "cell_type": "markdown",
   "metadata": {},
   "source": [
    "# Arithmetic Expression Examples\n",
    "\n",
    "Arithmetic expressions are mathematical statements that include numbers, operators, and sometimes variables. These expressions can be used to perform basic arithmetic operations such as addition, subtraction, multiplication, and division. Below are some examples of common arithmetic expressions:\n"
   ]
  },
  {
   "cell_type": "code",
   "execution_count": 5,
   "metadata": {},
   "outputs": [
    {
     "name": "stdout",
     "output_type": "stream",
     "text": [
      "Multiplication of 5 and 10 gives: 50\n",
      "Addition of 5, 10, and 2 gives: 17\n"
     ]
    }
   ],
   "source": [
    "# Define the numbers\n",
    "a = 5\n",
    "b = 10\n",
    "c = 2\n",
    "\n",
    "# Multiply and add the numbers\n",
    "multiplication_result = a * b\n",
    "addition_result = a + b + c\n",
    "\n",
    "# Print the results\n",
    "print(f\"Multiplication of {a} and {b} gives: {multiplication_result}\")\n",
    "print(f\"Addition of {a}, {b}, and {c} gives: {addition_result}\")\n"
   ]
  },
  {
   "cell_type": "code",
   "execution_count": 4,
   "metadata": {},
   "outputs": [
    {
     "name": "stdout",
     "output_type": "stream",
     "text": [
      "150 minutes is equal to 2.5 hours.\n"
     ]
    }
   ],
   "source": [
    "# Define the number of minutes\n",
    "minutes = 150\n",
    "\n",
    "# Convert minutes to hours\n",
    "hours = minutes / 60\n",
    "\n",
    "# Print the result\n",
    "print(f\"{minutes} minutes is equal to {hours} hours.\")\n"
   ]
  },
  {
   "cell_type": "markdown",
   "metadata": {},
   "source": [
    "# Objectives\n",
    "\n",
    "The objectives of this document are as follows:\n",
    "\n",
    "1. To introduce the basics of economic forecasts and trends.\n",
    "2. To provide an overview of commonly used programming languages in data science.\n",
    "3. To list popular data science libraries and their primary uses.\n",
    "4. To present a table of essential data science tools.\n",
    "5. To demonstrate examples of arithmetic expressions.\n",
    "6. To perform basic arithmetic operations such as multiplication and addition through a code cell.\n",
    "7. To show how to convert minutes to hours using a simple code cell.\n"
   ]
  },
  {
   "cell_type": "markdown",
   "metadata": {},
   "source": [
    "# Author\n",
    "\n",
    "**MD.Nasim Ahmmed.**\n"
   ]
  },
  {
   "cell_type": "code",
   "execution_count": null,
   "metadata": {},
   "outputs": [],
   "source": []
  }
 ],
 "metadata": {
  "kernelspec": {
   "display_name": "Python 3 (ipykernel)",
   "language": "python",
   "name": "python3"
  },
  "language_info": {
   "codemirror_mode": {
    "name": "ipython",
    "version": 3
   },
   "file_extension": ".py",
   "mimetype": "text/x-python",
   "name": "python",
   "nbconvert_exporter": "python",
   "pygments_lexer": "ipython3",
   "version": "3.12.4"
  }
 },
 "nbformat": 4,
 "nbformat_minor": 4
}
